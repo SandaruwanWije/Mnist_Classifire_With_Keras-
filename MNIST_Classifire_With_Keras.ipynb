{
  "nbformat": 4,
  "nbformat_minor": 0,
  "metadata": {
    "colab": {
      "name": "MNIST_Classifire_With_Keras.ipynb",
      "version": "0.3.2",
      "provenance": [],
      "collapsed_sections": [
        "Pj0wqmXnb0HA",
        "jRlpafLXc80D",
        "rI_dS0ddm1bZ"
      ],
      "include_colab_link": true
    },
    "kernelspec": {
      "name": "python3",
      "display_name": "Python 3"
    },
    "accelerator": "GPU"
  },
  "cells": [
    {
      "cell_type": "markdown",
      "metadata": {
        "id": "view-in-github",
        "colab_type": "text"
      },
      "source": [
        "<a href=\"https://colab.research.google.com/github/sandaruwan9495/Mnist_Classifire_With_Keras-/blob/master/MNIST_Classifire_With_Keras.ipynb\" target=\"_parent\"><img src=\"https://colab.research.google.com/assets/colab-badge.svg\" alt=\"Open In Colab\"/></a>"
      ]
    },
    {
      "cell_type": "markdown",
      "metadata": {
        "id": "MD5vxcgiaqM6",
        "colab_type": "text"
      },
      "source": [
        "# **Data Preproccessing and create the architecture of the model...**"
      ]
    },
    {
      "cell_type": "code",
      "metadata": {
        "id": "HQ82eQOBQNSi",
        "colab_type": "code",
        "outputId": "11023007-c967-436e-fe30-d56a917fe2dd",
        "colab": {
          "base_uri": "https://localhost:8080/",
          "height": 34
        }
      },
      "source": [
        "import numpy as np\n",
        "import matplotlib.pyplot as plt\n",
        "from sklearn import datasets\n",
        "import keras\n",
        "import random\n",
        "from keras.datasets import mnist\n",
        "from keras.models import Sequential\n",
        "from keras.layers import Dense\n",
        "from keras.optimizers import Adam\n",
        "from keras.utils.np_utils import to_categorical\n",
        "from keras.models import Model\n",
        "from keras.layers import Flatten\n",
        "from keras.layers.convolutional import Conv2D\n",
        "from keras.layers.convolutional import MaxPooling2D\n",
        "from keras.layers import Dropout\n",
        "\n",
        "np.random.seed(0)\n",
        "\n",
        "(X_Train, Y_Train), (X_Test, Y_Test) = mnist.load_data()\n",
        "num_of_samples = []\n",
        "cols = 5\n",
        "clases = 10\n",
        "\n",
        "Y_Train = to_categorical(Y_Train, 10)\n",
        "Y_Test = to_categorical(Y_Test, 10)\n",
        "\n",
        "X_Train = X_Train/255\n",
        "X_Test = X_Test/255\n",
        "\n",
        "num_of_pixels = 784\n",
        "X_Train = X_Train.reshape(X_Train.shape[0], 28, 28, 1)\n",
        "X_Test = X_Test.reshape(X_Test.shape[0], 28, 28, 1)\n",
        "\n",
        "def create_only_fully_connected_model():\n",
        "    model = Sequential()\n",
        "    model.add(Dense(units=10, activation=\"relu\", input_dim=num_of_pixels))\n",
        "    model.add(Dense(units=10, activation=\"relu\"))\n",
        "    model.add(Dense(units=clases, activation=\"softmax\"))\n",
        "    model.compile(Adam(0.01), loss=\"categorical_crossentropy\", metrics=[\"accuracy\"])\n",
        "    return model\n",
        "def create_lenet_model():\n",
        "    model = Sequential()\n",
        "    model.add(Conv2D(30, (5,5), input_shape=(28,28,1), activation=\"relu\"))\n",
        "    model.add(MaxPooling2D(pool_size=(2,2)))\n",
        "    model.add(Conv2D(15, (3,3), activation=\"relu\"))\n",
        "    model.add(MaxPooling2D(pool_size=(2,2)))\n",
        "    model.add(Flatten())\n",
        "    model.add(Dense(units=500, activation=\"relu\"))\n",
        "    model.add(Dropout(0.5))\n",
        "    model.add(Dense(units=clases, activation=\"softmax\"))\n",
        "    model.compile(Adam(0.01), loss=\"categorical_crossentropy\", metrics=[\"accuracy\"])\n",
        "    return model\n",
        "print(\"Data preproccessing and architecture is ready....\")"
      ],
      "execution_count": 61,
      "outputs": [
        {
          "output_type": "stream",
          "text": [
            "Data preproccessing and architecture is ready....\n"
          ],
          "name": "stdout"
        }
      ]
    },
    {
      "cell_type": "markdown",
      "metadata": {
        "id": "4j5W_wY8aXkT",
        "colab_type": "text"
      },
      "source": [
        "# **Create the Model**\n",
        "\n",
        "\n",
        "\n",
        "\n",
        "\n"
      ]
    },
    {
      "cell_type": "code",
      "metadata": {
        "id": "cXU5dLnHZXKJ",
        "colab_type": "code",
        "outputId": "4a40f03a-d803-48de-eb4b-aeda24537841",
        "colab": {
          "base_uri": "https://localhost:8080/",
          "height": 425
        }
      },
      "source": [
        "model = create_lenet_model()\n",
        "print(model.summary())"
      ],
      "execution_count": 62,
      "outputs": [
        {
          "output_type": "stream",
          "text": [
            "_________________________________________________________________\n",
            "Layer (type)                 Output Shape              Param #   \n",
            "=================================================================\n",
            "conv2d_17 (Conv2D)           (None, 24, 24, 30)        780       \n",
            "_________________________________________________________________\n",
            "max_pooling2d_17 (MaxPooling (None, 12, 12, 30)        0         \n",
            "_________________________________________________________________\n",
            "conv2d_18 (Conv2D)           (None, 10, 10, 15)        4065      \n",
            "_________________________________________________________________\n",
            "max_pooling2d_18 (MaxPooling (None, 5, 5, 15)          0         \n",
            "_________________________________________________________________\n",
            "flatten_6 (Flatten)          (None, 375)               0         \n",
            "_________________________________________________________________\n",
            "dense_17 (Dense)             (None, 500)               188000    \n",
            "_________________________________________________________________\n",
            "dropout_5 (Dropout)          (None, 500)               0         \n",
            "_________________________________________________________________\n",
            "dense_18 (Dense)             (None, 10)                5010      \n",
            "=================================================================\n",
            "Total params: 197,855\n",
            "Trainable params: 197,855\n",
            "Non-trainable params: 0\n",
            "_________________________________________________________________\n",
            "None\n"
          ],
          "name": "stdout"
        }
      ]
    },
    {
      "cell_type": "markdown",
      "metadata": {
        "id": "APEHCMAZa51T",
        "colab_type": "text"
      },
      "source": [
        "#  Train the model with the dataset"
      ]
    },
    {
      "cell_type": "code",
      "metadata": {
        "id": "Z97GZS8tbEiR",
        "colab_type": "code",
        "outputId": "806f0128-e9cb-4ed8-ba67-01e6b728053b",
        "colab": {
          "base_uri": "https://localhost:8080/",
          "height": 374
        }
      },
      "source": [
        "history = model.fit(x=X_Train, y=Y_Train, epochs=10, validation_split=0.1, batch_size=400, shuffle=True, verbose=1)"
      ],
      "execution_count": 63,
      "outputs": [
        {
          "output_type": "stream",
          "text": [
            "Train on 54000 samples, validate on 6000 samples\n",
            "Epoch 1/10\n",
            "54000/54000 [==============================] - 2s 37us/step - loss: 0.2493 - acc: 0.9192 - val_loss: 0.0486 - val_acc: 0.9862\n",
            "Epoch 2/10\n",
            "54000/54000 [==============================] - 1s 22us/step - loss: 0.0696 - acc: 0.9782 - val_loss: 0.0392 - val_acc: 0.9890\n",
            "Epoch 3/10\n",
            "54000/54000 [==============================] - 1s 22us/step - loss: 0.0591 - acc: 0.9816 - val_loss: 0.0419 - val_acc: 0.9882\n",
            "Epoch 4/10\n",
            "54000/54000 [==============================] - 1s 22us/step - loss: 0.0532 - acc: 0.9835 - val_loss: 0.0355 - val_acc: 0.9905\n",
            "Epoch 5/10\n",
            "54000/54000 [==============================] - 1s 22us/step - loss: 0.0429 - acc: 0.9863 - val_loss: 0.0336 - val_acc: 0.9903\n",
            "Epoch 6/10\n",
            "54000/54000 [==============================] - 1s 22us/step - loss: 0.0431 - acc: 0.9869 - val_loss: 0.0328 - val_acc: 0.9917\n",
            "Epoch 7/10\n",
            "54000/54000 [==============================] - 1s 22us/step - loss: 0.0406 - acc: 0.9873 - val_loss: 0.0359 - val_acc: 0.9903\n",
            "Epoch 8/10\n",
            "54000/54000 [==============================] - 1s 22us/step - loss: 0.0412 - acc: 0.9871 - val_loss: 0.0350 - val_acc: 0.9910\n",
            "Epoch 9/10\n",
            "54000/54000 [==============================] - 1s 22us/step - loss: 0.0392 - acc: 0.9883 - val_loss: 0.0449 - val_acc: 0.9875\n",
            "Epoch 10/10\n",
            "54000/54000 [==============================] - 1s 22us/step - loss: 0.0383 - acc: 0.9881 - val_loss: 0.0272 - val_acc: 0.9927\n"
          ],
          "name": "stdout"
        }
      ]
    },
    {
      "cell_type": "markdown",
      "metadata": {
        "id": "Pj0wqmXnb0HA",
        "colab_type": "text"
      },
      "source": [
        "# **Evaluate the model capacity**"
      ]
    },
    {
      "cell_type": "code",
      "metadata": {
        "id": "8GNwY28Ub54f",
        "colab_type": "code",
        "outputId": "4f6a0ba8-a070-4271-a55b-6a8beb6df046",
        "colab": {
          "base_uri": "https://localhost:8080/",
          "height": 0
        }
      },
      "source": [
        "plt.plot(history.history['loss'])\n",
        "plt.plot(history.history['val_loss'])\n",
        "plt.plot(history.history['acc'])\n",
        "plt.plot(history.history['val_acc'])\n",
        "plt.legend(['loss', 'val_loss', 'acc', 'val_acc'])\n",
        "plt.title(\"Loss and Accuracy\")\n",
        "plt.xlabel(\"epochs\")"
      ],
      "execution_count": 64,
      "outputs": [
        {
          "output_type": "execute_result",
          "data": {
            "text/plain": [
              "Text(0.5, 0, 'epochs')"
            ]
          },
          "metadata": {
            "tags": []
          },
          "execution_count": 64
        },
        {
          "output_type": "display_data",
          "data": {
            "image/png": "[encoded data removed]",
            "text/plain": [
              "<Figure size 432x288 with 1 Axes>"
            ]
          },
          "metadata": {
            "tags": []
          }
        }
      ]
    },
    {
      "cell_type": "markdown",
      "metadata": {
        "id": "jRlpafLXc80D",
        "colab_type": "text"
      },
      "source": [
        "# **Test the model with some random image**"
      ]
    },
    {
      "cell_type": "code",
      "metadata": {
        "id": "zro5g1P3dFlU",
        "colab_type": "code",
        "outputId": "2e70a029-ac8f-4799-9499-00adb48cf135",
        "colab": {
          "base_uri": "https://localhost:8080/",
          "height": 286
        }
      },
      "source": [
        "import requests\n",
        "from PIL import Image\n",
        "\n",
        "url = \"https://c8.alamy.com/comp/HXBRW0/2-red-handwritten-digits-over-white-background-HXBRW0.jpg\"\n",
        "response = requests.get(url, stream = True)\n",
        "img = Image.open(response.raw)\n",
        "\n",
        "import cv2\n",
        "img = np.asanyarray(img)\n",
        "img = cv2.resize(img, (28,28))\n",
        "img = cv2.cvtColor(img, cv2.COLOR_BGR2GRAY)\n",
        "img = cv2.bitwise_not(img)\n",
        "plt.imshow(img, cmap=plt.get_cmap(\"gray\"))\n",
        "img = img/255\n",
        "img = img.reshape(1, 28, 28, 1)\n",
        "\n",
        "prediction = model.predict_classes(img)\n",
        "print(\"Predicted digit is:\", str(prediction[0]))\n",
        "\n"
      ],
      "execution_count": 65,
      "outputs": [
        {
          "output_type": "stream",
          "text": [
            "Predicted digit is: 2\n"
          ],
          "name": "stdout"
        },
        {
          "output_type": "display_data",
          "data": {
            "image/png": "[encoded data removed]",
            "text/plain": [
              "<Figure size 432x288 with 1 Axes>"
            ]
          },
          "metadata": {
            "tags": []
          }
        }
      ]
    },
    {
      "cell_type": "markdown",
      "metadata": {
        "id": "yj76-ZdLlIos",
        "colab_type": "text"
      },
      "source": [
        "# **Check the model capacity with all test data**"
      ]
    },
    {
      "cell_type": "code",
      "metadata": {
        "id": "fKC7MSKtlRL7",
        "colab_type": "code",
        "outputId": "5cdae2c1-563a-48ff-963b-15ece69939ce",
        "colab": {
          "base_uri": "https://localhost:8080/",
          "height": 105
        }
      },
      "source": [
        "score = model.model.evaluate(X_Test, Y_Test, verbose=0)\n",
        "print(\"Test Score: \", score[0])\n",
        "print(\"Test Accuracy: \", score[1])"
      ],
      "execution_count": 66,
      "outputs": [
        {
          "output_type": "stream",
          "text": [
            "/usr/local/lib/python3.6/dist-packages/keras/engine/sequential.py:110: UserWarning: `Sequential.model` is deprecated. `Sequential` is a subclass of `Model`, you can just use your `Sequential` instance directly.\n",
            "  warnings.warn('`Sequential.model` is deprecated. '\n"
          ],
          "name": "stderr"
        },
        {
          "output_type": "stream",
          "text": [
            "Test Score:  0.02892212936879605\n",
            "Test Accuracy:  0.9908\n"
          ],
          "name": "stdout"
        }
      ]
    },
    {
      "cell_type": "markdown",
      "metadata": {
        "id": "rI_dS0ddm1bZ",
        "colab_type": "text"
      },
      "source": [
        "# **Visualize the feature maps**"
      ]
    },
    {
      "cell_type": "code",
      "metadata": {
        "id": "THeY2S2jm7AX",
        "colab_type": "code",
        "outputId": "2d147465-2f03-420c-d33c-c0c985d76be6",
        "colab": {
          "base_uri": "https://localhost:8080/",
          "height": 856
        }
      },
      "source": [
        "layer1 = Model(input=model.layers[0].input, outputs=model.layers[0].output)\n",
        "layer2 = Model(input=model.layers[0].input, outputs=model.layers[2].output)\n",
        "\n",
        "visual_layer1, visual_layer2 = layer1.predict(img), layer2.predict(img)\n",
        "print(visual_layer1.shape)\n",
        "print(visual_layer2.shape)\n",
        "\n",
        "plt.figure(figsize=(10, 6))\n",
        "for i in range(30):\n",
        "  plt.subplot(6, 5, i+1)\n",
        "  plt.imshow(visual_layer1[0,:,:,i], cmap=plt.get_cmap(\"jet\"))\n",
        "  plt.axis(\"off\")\n",
        "\n",
        "plt.figure(figsize=(10, 6))\n",
        "for i in range(15):\n",
        "  plt.subplot(3, 5, i+1)\n",
        "  plt.imshow(visual_layer2[0,:,:,i], cmap=plt.get_cmap(\"jet\"))\n",
        "  plt.axis(\"off\")"
      ],
      "execution_count": 67,
      "outputs": [
        {
          "output_type": "stream",
          "text": [
            "/usr/local/lib/python3.6/dist-packages/ipykernel_launcher.py:1: UserWarning: Update your `Model` call to the Keras 2 API: `Model(outputs=Tensor(\"co..., inputs=Tensor(\"co...)`\n",
            "  \"\"\"Entry point for launching an IPython kernel.\n",
            "/usr/local/lib/python3.6/dist-packages/ipykernel_launcher.py:2: UserWarning: Update your `Model` call to the Keras 2 API: `Model(outputs=Tensor(\"co..., inputs=Tensor(\"co...)`\n",
            "  \n"
          ],
          "name": "stderr"
        },
        {
          "output_type": "stream",
          "text": [
            "(1, 24, 24, 30)\n",
            "(1, 10, 10, 15)\n"
          ],
          "name": "stdout"
        },
        {
          "output_type": "display_data",
          "data": {
            "image/png": "[encoded data removed]",
            "text/plain": [
              "<Figure size 720x432 with 30 Axes>"
            ]
          },
          "metadata": {
            "tags": []
          }
        },
        {
          "output_type": "display_data",
          "data": {
            "image/png": "[encoded data removed]",
            "text/plain": [
              "<Figure size 720x432 with 15 Axes>"
            ]
          },
          "metadata": {
            "tags": []
          }
        }
      ]
    }
  ]
}