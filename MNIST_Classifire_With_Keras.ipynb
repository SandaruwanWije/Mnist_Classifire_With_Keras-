{
  "nbformat": 4,
  "nbformat_minor": 0,
  "metadata": {
    "colab": {
      "name": "MNIST_Classifire_With_Keras.ipynb",
      "version": "0.3.2",
      "provenance": [],
      "collapsed_sections": [
        "Pj0wqmXnb0HA",
        "jRlpafLXc80D",
        "rI_dS0ddm1bZ"
      ],
      "include_colab_link": true
    },
    "kernelspec": {
      "name": "python3",
      "display_name": "Python 3"
    },
    "accelerator": "GPU"
  },
  "cells": [
    {
      "cell_type": "markdown",
      "metadata": {
        "id": "view-in-github",
        "colab_type": "text"
      },
      "source": [
        "<a href=\"https://colab.research.google.com/github/sandaruwan9495/Mnist_Classifire_With_Keras-/blob/master/MNIST_Classifire_With_Keras.ipynb\" target=\"_parent\"><img src=\"https://colab.research.google.com/assets/colab-badge.svg\" alt=\"Open In Colab\"/></a>"
      ]
    },
    {
      "cell_type": "markdown",
      "metadata": {
        "id": "MD5vxcgiaqM6",
        "colab_type": "text"
      },
      "source": [
        "# **Data Preproccessing and create the architecture of the model...**"
      ]
    },
    {
      "cell_type": "code",
      "metadata": {
        "id": "HQ82eQOBQNSi",
        "colab_type": "code",
        "outputId": "8702fd30-ed4b-4d35-d6e0-3c7717814fc8",
        "colab": {
          "base_uri": "https://localhost:8080/",
          "height": 34
        }
      },
      "source": [
        "import numpy as np\n",
        "import matplotlib.pyplot as plt\n",
        "from sklearn import datasets\n",
        "import keras\n",
        "import random\n",
        "from keras.datasets import mnist\n",
        "from keras.models import Sequential\n",
        "from keras.layers import Dense\n",
        "from keras.optimizers import Adam\n",
        "from keras.utils.np_utils import to_categorical\n",
        "from keras.models import Model\n",
        "from keras.layers import Flatten\n",
        "from keras.layers.convolutional import Conv2D\n",
        "from keras.layers.convolutional import MaxPooling2D\n",
        "from keras.layers import Dropout\n",
        "\n",
        "np.random.seed(0)\n",
        "\n",
        "(X_Train, Y_Train), (X_Test, Y_Test) = mnist.load_data()\n",
        "num_of_samples = []\n",
        "cols = 5\n",
        "clases = 10\n",
        "\n",
        "Y_Train = to_categorical(Y_Train, 10)\n",
        "Y_Test = to_categorical(Y_Test, 10)\n",
        "\n",
        "X_Train = X_Train/255\n",
        "X_Test = X_Test/255\n",
        "\n",
        "num_of_pixels = 784\n",
        "X_Train = X_Train.reshape(X_Train.shape[0], 28, 28, 1)\n",
        "X_Test = X_Test.reshape(X_Test.shape[0], 28, 28, 1)\n",
        "\n",
        "def create_only_fully_connected_model():\n",
        "    model = Sequential()\n",
        "    model.add(Dense(units=10, activation=\"relu\", input_dim=num_of_pixels))\n",
        "    model.add(Dense(units=10, activation=\"relu\"))\n",
        "    model.add(Dense(units=clases, activation=\"softmax\"))\n",
        "    model.compile(Adam(0.01), loss=\"categorical_crossentropy\", metrics=[\"accuracy\"])\n",
        "    return model\n",
        "def create_lenet_model():\n",
        "    model = Sequential()\n",
        "    model.add(Conv2D(30, (5,5), input_shape=(28,28,1), activation=\"relu\"))\n",
        "    model.add(MaxPooling2D(pool_size=(2,2)))\n",
        "    model.add(Conv2D(15, (3,3), activation=\"relu\"))\n",
        "    model.add(MaxPooling2D(pool_size=(2,2)))\n",
        "    model.add(Flatten())\n",
        "    model.add(Dense(units=500, activation=\"relu\"))\n",
        "    model.add(Dropout(0.5))\n",
        "    model.add(Dense(units=clases, activation=\"softmax\"))\n",
        "    model.compile(Adam(0.01), loss=\"categorical_crossentropy\", metrics=[\"accuracy\"])\n",
        "    return model\n",
        "print(\"Data preproccessing and architecture is ready....\")"
      ],
      "execution_count": 0,
      "outputs": [
        {
          "output_type": "stream",
          "text": [
            "Data preproccessing and architecture is ready....\n"
          ],
          "name": "stdout"
        }
      ]
    },
    {
      "cell_type": "markdown",
      "metadata": {
        "id": "4j5W_wY8aXkT",
        "colab_type": "text"
      },
      "source": [
        "# **Create the Model**\n",
        "\n",
        "\n",
        "\n",
        "\n",
        "\n"
      ]
    },
    {
      "cell_type": "code",
      "metadata": {
        "id": "cXU5dLnHZXKJ",
        "colab_type": "code",
        "outputId": "d40f0df1-99d1-430b-a9db-326aad7a9134",
        "colab": {
          "base_uri": "https://localhost:8080/",
          "height": 425
        }
      },
      "source": [
        "model = create_lenet_model()\n",
        "print(model.summary())"
      ],
      "execution_count": 0,
      "outputs": [
        {
          "output_type": "stream",
          "text": [
            "_________________________________________________________________\n",
            "Layer (type)                 Output Shape              Param #   \n",
            "=================================================================\n",
            "conv2d_13 (Conv2D)           (None, 24, 24, 30)        780       \n",
            "_________________________________________________________________\n",
            "max_pooling2d_13 (MaxPooling (None, 12, 12, 30)        0         \n",
            "_________________________________________________________________\n",
            "conv2d_14 (Conv2D)           (None, 10, 10, 15)        4065      \n",
            "_________________________________________________________________\n",
            "max_pooling2d_14 (MaxPooling (None, 5, 5, 15)          0         \n",
            "_________________________________________________________________\n",
            "flatten_4 (Flatten)          (None, 375)               0         \n",
            "_________________________________________________________________\n",
            "dense_13 (Dense)             (None, 500)               188000    \n",
            "_________________________________________________________________\n",
            "dropout_3 (Dropout)          (None, 500)               0         \n",
            "_________________________________________________________________\n",
            "dense_14 (Dense)             (None, 10)                5010      \n",
            "=================================================================\n",
            "Total params: 197,855\n",
            "Trainable params: 197,855\n",
            "Non-trainable params: 0\n",
            "_________________________________________________________________\n",
            "None\n"
          ],
          "name": "stdout"
        }
      ]
    },
    {
      "cell_type": "markdown",
      "metadata": {
        "id": "APEHCMAZa51T",
        "colab_type": "text"
      },
      "source": [
        "#  Train the model with the dataset"
      ]
    },
    {
      "cell_type": "code",
      "metadata": {
        "id": "Z97GZS8tbEiR",
        "colab_type": "code",
        "outputId": "515f42e4-fced-4478-ee09-b7d95496e41a",
        "colab": {
          "base_uri": "https://localhost:8080/",
          "height": 374
        }
      },
      "source": [
        "history = model.fit(x=X_Train, y=Y_Train, epochs=10, validation_split=0.1, batch_size=400, shuffle=True, verbose=1)"
      ],
      "execution_count": 0,
      "outputs": [
        {
          "output_type": "stream",
          "text": [
            "Train on 54000 samples, validate on 6000 samples\n",
            "Epoch 1/10\n",
            "54000/54000 [==============================] - 2s 33us/step - loss: 0.2479 - acc: 0.9197 - val_loss: 0.0481 - val_acc: 0.9855\n",
            "Epoch 2/10\n",
            "54000/54000 [==============================] - 1s 21us/step - loss: 0.0681 - acc: 0.9782 - val_loss: 0.0365 - val_acc: 0.9893\n",
            "Epoch 3/10\n",
            "54000/54000 [==============================] - 1s 21us/step - loss: 0.0601 - acc: 0.9812 - val_loss: 0.0409 - val_acc: 0.9880\n",
            "Epoch 4/10\n",
            "54000/54000 [==============================] - 1s 21us/step - loss: 0.0522 - acc: 0.9844 - val_loss: 0.0388 - val_acc: 0.9870\n",
            "Epoch 5/10\n",
            "54000/54000 [==============================] - 1s 22us/step - loss: 0.0446 - acc: 0.9860 - val_loss: 0.0312 - val_acc: 0.9902\n",
            "Epoch 6/10\n",
            "54000/54000 [==============================] - 1s 22us/step - loss: 0.0422 - acc: 0.9867 - val_loss: 0.0338 - val_acc: 0.9895\n",
            "Epoch 7/10\n",
            "54000/54000 [==============================] - 1s 21us/step - loss: 0.0393 - acc: 0.9881 - val_loss: 0.0312 - val_acc: 0.9913\n",
            "Epoch 8/10\n",
            "54000/54000 [==============================] - 1s 21us/step - loss: 0.0385 - acc: 0.9875 - val_loss: 0.0348 - val_acc: 0.9898\n",
            "Epoch 9/10\n",
            "54000/54000 [==============================] - 1s 22us/step - loss: 0.0386 - acc: 0.9882 - val_loss: 0.0398 - val_acc: 0.9885\n",
            "Epoch 10/10\n",
            "54000/54000 [==============================] - 1s 21us/step - loss: 0.0372 - acc: 0.9886 - val_loss: 0.0405 - val_acc: 0.9888\n"
          ],
          "name": "stdout"
        }
      ]
    },
    {
      "cell_type": "markdown",
      "metadata": {
        "id": "Pj0wqmXnb0HA",
        "colab_type": "text"
      },
      "source": [
        "# **Evaluate the model capacity**"
      ]
    },
    {
      "cell_type": "code",
      "metadata": {
        "id": "8GNwY28Ub54f",
        "colab_type": "code",
        "outputId": "bcfb9679-e464-4dab-dbd1-26ffaee496e3",
        "colab": {
          "base_uri": "https://localhost:8080/",
          "height": 312
        }
      },
      "source": [
        "plt.plot(history.history['loss'])\n",
        "plt.plot(history.history['val_loss'])\n",
        "plt.plot(history.history['acc'])\n",
        "plt.plot(history.history['val_acc'])\n",
        "plt.legend(['loss', 'val_loss', 'acc', 'val_acc'])\n",
        "plt.title(\"Loss and Accuracy\")\n",
        "plt.xlabel(\"epochs\")"
      ],
      "execution_count": 0,
      "outputs": [
        {
          "output_type": "execute_result",
          "data": {
            "text/plain": [
              "Text(0.5, 0, 'epochs')"
            ]
          },
          "metadata": {
            "tags": []
          },
          "execution_count": 42
        },
        {
          "output_type": "display_data",
          "data": {
            "image/png": "[encoded data removed]",
            "text/plain": [
              "<Figure size 432x288 with 1 Axes>"
            ]
          },
          "metadata": {
            "tags": []
          }
        }
      ]
    },
    {
      "cell_type": "markdown",
      "metadata": {
        "id": "jRlpafLXc80D",
        "colab_type": "text"
      },
      "source": [
        "# **Test the model with some random image**"
      ]
    },
    {
      "cell_type": "code",
      "metadata": {
        "id": "zro5g1P3dFlU",
        "colab_type": "code",
        "outputId": "ed30c294-95ec-4980-dfff-6f590684df98",
        "colab": {
          "base_uri": "https://localhost:8080/",
          "height": 286
        }
      },
      "source": [
        "import requests\n",
        "from PIL import Image\n",
        "\n",
        "url = \"https://c8.alamy.com/comp/HXBRW9/9-red-handwritten-digits-over-white-background-HXBRW9.jpg\"\n",
        "response = requests.get(url, stream = True)\n",
        "img = Image.open(response.raw)\n",
        "\n",
        "import cv2\n",
        "img = np.asanyarray(img)\n",
        "img = cv2.resize(img, (28,28))\n",
        "img = cv2.cvtColor(img, cv2.COLOR_BGR2GRAY)\n",
        "img = cv2.bitwise_not(img)\n",
        "plt.imshow(img, cmap=plt.get_cmap(\"gray\"))\n",
        "img = img/255\n",
        "img = img.reshape(1, 28, 28, 1)\n",
        "\n",
        "prediction = model.predict_classes(img)\n",
        "print(\"Predicted digit is:\", str(prediction[0]))\n",
        "\n"
      ],
      "execution_count": 0,
      "outputs": [
        {
          "output_type": "stream",
          "text": [
            "Predicted digit is: 8\n"
          ],
          "name": "stdout"
        },
        {
          "output_type": "display_data",
          "data": {
            "image/png": "[encoded data removed]",
            "text/plain": [
              "<Figure size 432x288 with 1 Axes>"
            ]
          },
          "metadata": {
            "tags": []
          }
        }
      ]
    },
    {
      "cell_type": "markdown",
      "metadata": {
        "id": "yj76-ZdLlIos",
        "colab_type": "text"
      },
      "source": [
        "# **Check the model capacity with all test data**"
      ]
    },
    {
      "cell_type": "code",
      "metadata": {
        "id": "fKC7MSKtlRL7",
        "colab_type": "code",
        "outputId": "52dee312-8ac0-45f6-d636-770471395f00",
        "colab": {
          "base_uri": "https://localhost:8080/",
          "height": 105
        }
      },
      "source": [
        "score = model.model.evaluate(X_Test, Y_Test, verbose=0)\n",
        "print(\"Test Score: \", score[0])\n",
        "print(\"Test Accuracy: \", score[1])"
      ],
      "execution_count": 0,
      "outputs": [
        {
          "output_type": "stream",
          "text": [
            "/usr/local/lib/python3.6/dist-packages/keras/engine/sequential.py:110: UserWarning: `Sequential.model` is deprecated. `Sequential` is a subclass of `Model`, you can just use your `Sequential` instance directly.\n",
            "  warnings.warn('`Sequential.model` is deprecated. '\n"
          ],
          "name": "stderr"
        },
        {
          "output_type": "stream",
          "text": [
            "Test Score:  0.043864774774992475\n",
            "Test Accuracy:  0.9885\n"
          ],
          "name": "stdout"
        }
      ]
    },
    {
      "cell_type": "markdown",
      "metadata": {
        "id": "rI_dS0ddm1bZ",
        "colab_type": "text"
      },
      "source": [
        "# **Visualize the feature maps**"
      ]
    },
    {
      "cell_type": "code",
      "metadata": {
        "id": "THeY2S2jm7AX",
        "colab_type": "code",
        "outputId": "7c829b41-89e5-47b1-ec4e-d473a3973c78",
        "colab": {
          "base_uri": "https://localhost:8080/",
          "height": 856
        }
      },
      "source": [
        "layer1 = Model(input=model.layers[0].input, outputs=model.layers[0].output)\n",
        "layer2 = Model(input=model.layers[0].input, outputs=model.layers[2].output)\n",
        "\n",
        "visual_layer1, visual_layer2 = layer1.predict(img), layer2.predict(img)\n",
        "print(visual_layer1.shape)\n",
        "print(visual_layer2.shape)\n",
        "\n",
        "plt.figure(figsize=(10, 6))\n",
        "for i in range(30):\n",
        "  plt.subplot(6, 5, i+1)\n",
        "  plt.imshow(visual_layer1[0,:,:,i], cmap=plt.get_cmap(\"jet\"))\n",
        "  plt.axis(\"off\")\n",
        "\n",
        "plt.figure(figsize=(10, 6))\n",
        "for i in range(15):\n",
        "  plt.subplot(3, 5, i+1)\n",
        "  plt.imshow(visual_layer2[0,:,:,i], cmap=plt.get_cmap(\"jet\"))\n",
        "  plt.axis(\"off\")"
      ],
      "execution_count": 0,
      "outputs": [
        {
          "output_type": "stream",
          "text": [
            "/usr/local/lib/python3.6/dist-packages/ipykernel_launcher.py:1: UserWarning: Update your `Model` call to the Keras 2 API: `Model(outputs=Tensor(\"co..., inputs=Tensor(\"co...)`\n",
            "  \"\"\"Entry point for launching an IPython kernel.\n",
            "/usr/local/lib/python3.6/dist-packages/ipykernel_launcher.py:2: UserWarning: Update your `Model` call to the Keras 2 API: `Model(outputs=Tensor(\"co..., inputs=Tensor(\"co...)`\n",
            "  \n"
          ],
          "name": "stderr"
        },
        {
          "output_type": "stream",
          "text": [
            "(1, 24, 24, 30)\n",
            "(1, 10, 10, 15)\n"
          ],
          "name": "stdout"
        },
        {
          "output_type": "display_data",
          "data": {
            "image/png": "[encoded data removed]",
            "text/plain": [
              "<Figure size 720x432 with 30 Axes>"
            ]
          },
          "metadata": {
            "tags": []
          }
        },
        {
          "output_type": "display_data",
          "data": {
            "image/png": "[encoded data removed]",
            "text/plain": [
              "<Figure size 720x432 with 15 Axes>"
            ]
          },
          "metadata": {
            "tags": []
          }
        }
      ]
    }
  ]
}